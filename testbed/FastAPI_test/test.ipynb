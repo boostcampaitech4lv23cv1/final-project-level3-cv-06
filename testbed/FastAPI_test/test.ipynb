{
 "cells": [
  {
   "cell_type": "code",
   "execution_count": 1,
   "metadata": {},
   "outputs": [],
   "source": [
    "import io\n",
    "from PIL import Image\n",
    "import base64\n",
    "\n",
    "def from_image_to_bytes(img, ext):\n",
    "    \"\"\"\n",
    "    pillow image 객체를 bytes로 변환\n",
    "    \"\"\"\n",
    "    # Pillow 이미지 객체를 Bytes로 변환\n",
    "    imgByteArr = io.BytesIO()\n",
    "    img.save(imgByteArr, format=ext)\n",
    "    imgByteArr = imgByteArr.getvalue()\n",
    "    # Base64로 Bytes를 인코딩\n",
    "    encoded = base64.b64encode(imgByteArr)\n",
    "    return encoded\n",
    "\n",
    "def from_bytes_to_image(bytes):\n",
    "    return Image.open(io.BytesIO(base64.b64decode(bytes)))\n",
    "\n",
    "def from_image_to_bytes_animation(img_list, ext):\n",
    "    imgByteArr = io.BytesIO()\n",
    "    img_list[0].save(\n",
    "        imgByteArr,\n",
    "        format=ext,\n",
    "        save_all=True,\n",
    "        append_images=img_list[1:],\n",
    "        optimize=True,\n",
    "        duration=100,\n",
    "    )\n",
    "    imgByteArr = imgByteArr.getvalue()\n",
    "    encoded = base64.b64encode(imgByteArr)\n",
    "    return encoded"
   ]
  },
  {
   "cell_type": "code",
   "execution_count": 2,
   "metadata": {},
   "outputs": [],
   "source": [
    "import requests"
   ]
  },
  {
   "cell_type": "code",
   "execution_count": 3,
   "metadata": {},
   "outputs": [],
   "source": [
    "img = Image.open('dog_1_original.jpg')"
   ]
  },
  {
   "cell_type": "code",
   "execution_count": 4,
   "metadata": {},
   "outputs": [],
   "source": [
    "img_encoded = from_image_to_bytes(img, \"WEBP\")"
   ]
  },
  {
   "cell_type": "code",
   "execution_count": 5,
   "metadata": {},
   "outputs": [
    {
     "data": {
      "text/plain": [
       "bytes"
      ]
     },
     "execution_count": 5,
     "metadata": {},
     "output_type": "execute_result"
    }
   ],
   "source": [
    "type(img_encoded)"
   ]
  },
  {
   "cell_type": "code",
   "execution_count": 5,
   "metadata": {},
   "outputs": [],
   "source": [
    "params = {\"img_encoded\": img_encoded}\n",
    "response = requests.post(f\"http://localhost:30001\", params=params).json()"
   ]
  },
  {
   "cell_type": "code",
   "execution_count": 102,
   "metadata": {},
   "outputs": [],
   "source": [
    "image_str = response['image']"
   ]
  },
  {
   "cell_type": "code",
   "execution_count": 103,
   "metadata": {},
   "outputs": [],
   "source": [
    "img_output = from_bytes_to_image(image_str)"
   ]
  },
  {
   "cell_type": "code",
   "execution_count": null,
   "metadata": {},
   "outputs": [],
   "source": []
  }
 ],
 "metadata": {
  "kernelspec": {
   "display_name": "final-project-1ugMOtgr",
   "language": "python",
   "name": "python3"
  },
  "language_info": {
   "codemirror_mode": {
    "name": "ipython",
    "version": 3
   },
   "file_extension": ".py",
   "mimetype": "text/x-python",
   "name": "python",
   "nbconvert_exporter": "python",
   "pygments_lexer": "ipython3",
   "version": "3.9.16"
  },
  "orig_nbformat": 4,
  "vscode": {
   "interpreter": {
    "hash": "afad1080145eb74ab88b7ca1c06c84679dfab0acb72cd6e8d8b0dc9133751621"
   }
  }
 },
 "nbformat": 4,
 "nbformat_minor": 2
}
